{
 "cells": [
  {
   "cell_type": "code",
   "execution_count": null,
   "metadata": {
    "_cell_guid": "b1076dfc-b9ad-4769-8c92-a6c4dae69d19",
    "_uuid": "8f2839f25d086af736a60e9eeb907d3b93b6e0e5",
    "execution": {
     "iopub.execute_input": "2025-05-22T16:02:15.985031Z",
     "iopub.status.busy": "2025-05-22T16:02:15.984783Z",
     "iopub.status.idle": "2025-05-22T16:02:16.221655Z",
     "shell.execute_reply": "2025-05-22T16:02:16.220864Z",
     "shell.execute_reply.started": "2025-05-22T16:02:15.985015Z"
    },
    "trusted": true
   },
   "outputs": [],
   "source": [
    "# This Python 3 environment comes with many helpful analytics libraries installed\n",
    "# It is defined by the kaggle/python Docker image: https://github.com/kaggle/docker-python\n",
    "# For example, here's several helpful packages to load\n",
    "\n",
    "import numpy as np # linear algebra\n",
    "import pandas as pd # data processing, CSV file I/O (e.g. pd.read_csv)\n",
    "\n",
    "# Input data files are available in the read-only \"../input/\" directory\n",
    "# For example, running this (by clicking run or pressing Shift+Enter) will list all files under the input directory\n",
    "\n",
    "import os\n",
    "for dirname, _, filenames in os.walk('/kaggle/input'):\n",
    "    for filename in filenames:\n",
    "        print(os.path.join(dirname, filename))\n",
    "\n",
    "# You can write up to 20GB to the current directory (/kaggle/working/) that gets preserved as output when you create a version using \"Save & Run All\" \n",
    "# You can also write temporary files to /kaggle/temp/, but they won't be saved outside of the current session"
   ]
  },
  {
   "cell_type": "code",
   "execution_count": null,
   "metadata": {
    "execution": {
     "iopub.execute_input": "2025-05-22T16:02:16.223404Z",
     "iopub.status.busy": "2025-05-22T16:02:16.222970Z",
     "iopub.status.idle": "2025-05-22T16:02:16.251402Z",
     "shell.execute_reply": "2025-05-22T16:02:16.250450Z",
     "shell.execute_reply.started": "2025-05-22T16:02:16.223376Z"
    },
    "trusted": true
   },
   "outputs": [],
   "source": [
    "df = pd.read_csv('/kaggle/input/crop-recommendation-dataset/Crop_recommendation.csv')"
   ]
  },
  {
   "cell_type": "code",
   "execution_count": null,
   "metadata": {
    "execution": {
     "iopub.execute_input": "2025-05-22T16:02:16.252330Z",
     "iopub.status.busy": "2025-05-22T16:02:16.252096Z",
     "iopub.status.idle": "2025-05-22T16:02:16.288781Z",
     "shell.execute_reply": "2025-05-22T16:02:16.287836Z",
     "shell.execute_reply.started": "2025-05-22T16:02:16.252307Z"
    },
    "trusted": true
   },
   "outputs": [],
   "source": [
    "df"
   ]
  },
  {
   "cell_type": "code",
   "execution_count": null,
   "metadata": {
    "execution": {
     "iopub.execute_input": "2025-05-22T16:02:16.290993Z",
     "iopub.status.busy": "2025-05-22T16:02:16.290779Z",
     "iopub.status.idle": "2025-05-22T16:02:16.303304Z",
     "shell.execute_reply": "2025-05-22T16:02:16.302492Z",
     "shell.execute_reply.started": "2025-05-22T16:02:16.290974Z"
    },
    "trusted": true
   },
   "outputs": [],
   "source": [
    "df = df.sample(frac=1).reset_index(drop=True)\n",
    "df"
   ]
  },
  {
   "cell_type": "code",
   "execution_count": null,
   "metadata": {
    "execution": {
     "iopub.execute_input": "2025-05-22T16:18:50.504962Z",
     "iopub.status.busy": "2025-05-22T16:18:50.504679Z",
     "iopub.status.idle": "2025-05-22T16:18:50.807562Z",
     "shell.execute_reply": "2025-05-22T16:18:50.806892Z",
     "shell.execute_reply.started": "2025-05-22T16:18:50.504941Z"
    },
    "trusted": true
   },
   "outputs": [],
   "source": [
    "import matplotlib.pyplot as plt\n",
    "import seaborn as sns\n",
    "df_enc = df\n",
    "df_enc['label'] = encoder.fit_transform(df['label']) \n",
    "corr_matrix = df_enc.corr()\n",
    "plt.figure(figsize=(14,10))\n",
    "sns.heatmap(corr_matrix,annot=True,cmap='Reds')"
   ]
  },
  {
   "cell_type": "code",
   "execution_count": null,
   "metadata": {
    "execution": {
     "iopub.execute_input": "2025-05-22T16:14:16.158945Z",
     "iopub.status.busy": "2025-05-22T16:14:16.158695Z",
     "iopub.status.idle": "2025-05-22T16:14:16.164121Z",
     "shell.execute_reply": "2025-05-22T16:14:16.162980Z",
     "shell.execute_reply.started": "2025-05-22T16:14:16.158927Z"
    },
    "trusted": true
   },
   "outputs": [],
   "source": [
    "X= df.drop(columns = ['label', 'ph', 'rainfall'])\n",
    "y= df['label']"
   ]
  },
  {
   "cell_type": "code",
   "execution_count": null,
   "metadata": {
    "execution": {
     "iopub.execute_input": "2025-05-22T16:14:17.180937Z",
     "iopub.status.busy": "2025-05-22T16:14:17.180688Z",
     "iopub.status.idle": "2025-05-22T16:14:17.190587Z",
     "shell.execute_reply": "2025-05-22T16:14:17.189840Z",
     "shell.execute_reply.started": "2025-05-22T16:14:17.180921Z"
    },
    "trusted": true
   },
   "outputs": [],
   "source": [
    "X"
   ]
  },
  {
   "cell_type": "code",
   "execution_count": null,
   "metadata": {
    "execution": {
     "iopub.execute_input": "2025-05-22T16:14:21.616320Z",
     "iopub.status.busy": "2025-05-22T16:14:21.616085Z",
     "iopub.status.idle": "2025-05-22T16:14:21.622779Z",
     "shell.execute_reply": "2025-05-22T16:14:21.621924Z",
     "shell.execute_reply.started": "2025-05-22T16:14:21.616305Z"
    },
    "trusted": true
   },
   "outputs": [],
   "source": [
    "y"
   ]
  },
  {
   "cell_type": "code",
   "execution_count": null,
   "metadata": {
    "execution": {
     "iopub.execute_input": "2025-05-22T16:14:22.099716Z",
     "iopub.status.busy": "2025-05-22T16:14:22.099463Z",
     "iopub.status.idle": "2025-05-22T16:14:22.105033Z",
     "shell.execute_reply": "2025-05-22T16:14:22.104066Z",
     "shell.execute_reply.started": "2025-05-22T16:14:22.099699Z"
    },
    "trusted": true
   },
   "outputs": [],
   "source": [
    "num_classes = len(np.unique(y))\n",
    "print(num_classes)"
   ]
  },
  {
   "cell_type": "code",
   "execution_count": null,
   "metadata": {
    "execution": {
     "iopub.execute_input": "2025-05-22T16:14:22.673876Z",
     "iopub.status.busy": "2025-05-22T16:14:22.673619Z",
     "iopub.status.idle": "2025-05-22T16:14:22.677944Z",
     "shell.execute_reply": "2025-05-22T16:14:22.677071Z",
     "shell.execute_reply.started": "2025-05-22T16:14:22.673859Z"
    },
    "trusted": true
   },
   "outputs": [],
   "source": [
    "from sklearn.preprocessing import MinMaxScaler\n",
    "from sklearn.preprocessing import LabelEncoder"
   ]
  },
  {
   "cell_type": "code",
   "execution_count": null,
   "metadata": {
    "execution": {
     "iopub.execute_input": "2025-05-22T16:14:26.216129Z",
     "iopub.status.busy": "2025-05-22T16:14:26.215868Z",
     "iopub.status.idle": "2025-05-22T16:14:26.225201Z",
     "shell.execute_reply": "2025-05-22T16:14:26.224338Z",
     "shell.execute_reply.started": "2025-05-22T16:14:26.216111Z"
    },
    "trusted": true
   },
   "outputs": [],
   "source": [
    "scaler = MinMaxScaler()\n",
    "X_scaled = scaler.fit_transform(X)\n",
    "X_scaled"
   ]
  },
  {
   "cell_type": "code",
   "execution_count": null,
   "metadata": {
    "execution": {
     "iopub.execute_input": "2025-05-22T16:14:27.651468Z",
     "iopub.status.busy": "2025-05-22T16:14:27.650804Z",
     "iopub.status.idle": "2025-05-22T16:14:27.655744Z",
     "shell.execute_reply": "2025-05-22T16:14:27.654849Z",
     "shell.execute_reply.started": "2025-05-22T16:14:27.651444Z"
    },
    "trusted": true
   },
   "outputs": [],
   "source": [
    "encoder = LabelEncoder()\n",
    "y_encoded = encoder.fit_transform(y)"
   ]
  },
  {
   "cell_type": "code",
   "execution_count": null,
   "metadata": {
    "execution": {
     "iopub.execute_input": "2025-05-22T16:14:28.269900Z",
     "iopub.status.busy": "2025-05-22T16:14:28.269585Z",
     "iopub.status.idle": "2025-05-22T16:14:28.275935Z",
     "shell.execute_reply": "2025-05-22T16:14:28.275281Z",
     "shell.execute_reply.started": "2025-05-22T16:14:28.269872Z"
    },
    "trusted": true
   },
   "outputs": [],
   "source": [
    "y_encoded"
   ]
  },
  {
   "cell_type": "code",
   "execution_count": null,
   "metadata": {
    "execution": {
     "iopub.execute_input": "2025-05-22T16:14:28.879887Z",
     "iopub.status.busy": "2025-05-22T16:14:28.879641Z",
     "iopub.status.idle": "2025-05-22T16:14:28.883444Z",
     "shell.execute_reply": "2025-05-22T16:14:28.882680Z",
     "shell.execute_reply.started": "2025-05-22T16:14:28.879869Z"
    },
    "trusted": true
   },
   "outputs": [],
   "source": [
    "import torch\n",
    "import torch.nn as nn\n",
    "import torch.optim as optim"
   ]
  },
  {
   "cell_type": "code",
   "execution_count": null,
   "metadata": {
    "execution": {
     "iopub.execute_input": "2025-05-22T16:14:29.501246Z",
     "iopub.status.busy": "2025-05-22T16:14:29.501007Z",
     "iopub.status.idle": "2025-05-22T16:14:29.505559Z",
     "shell.execute_reply": "2025-05-22T16:14:29.504760Z",
     "shell.execute_reply.started": "2025-05-22T16:14:29.501230Z"
    },
    "trusted": true
   },
   "outputs": [],
   "source": [
    "X_tensor = torch.tensor(X_scaled, dtype=torch.float32)\n",
    "y_tensor = torch.tensor(y_encoded, dtype=torch.float32).reshape(-1, 1)"
   ]
  },
  {
   "cell_type": "code",
   "execution_count": null,
   "metadata": {
    "execution": {
     "iopub.execute_input": "2025-05-22T16:14:31.334281Z",
     "iopub.status.busy": "2025-05-22T16:14:31.334042Z",
     "iopub.status.idle": "2025-05-22T16:14:31.340747Z",
     "shell.execute_reply": "2025-05-22T16:14:31.340059Z",
     "shell.execute_reply.started": "2025-05-22T16:14:31.334266Z"
    },
    "trusted": true
   },
   "outputs": [],
   "source": [
    "X_tensor"
   ]
  },
  {
   "cell_type": "code",
   "execution_count": null,
   "metadata": {
    "execution": {
     "iopub.execute_input": "2025-05-22T16:14:32.870999Z",
     "iopub.status.busy": "2025-05-22T16:14:32.870755Z",
     "iopub.status.idle": "2025-05-22T16:14:32.876852Z",
     "shell.execute_reply": "2025-05-22T16:14:32.876197Z",
     "shell.execute_reply.started": "2025-05-22T16:14:32.870983Z"
    },
    "trusted": true
   },
   "outputs": [],
   "source": [
    "y_tensor = y_tensor.squeeze().long()\n",
    "y_tensor"
   ]
  },
  {
   "cell_type": "code",
   "execution_count": null,
   "metadata": {
    "execution": {
     "iopub.execute_input": "2025-05-22T16:14:33.862204Z",
     "iopub.status.busy": "2025-05-22T16:14:33.861938Z",
     "iopub.status.idle": "2025-05-22T16:14:33.867425Z",
     "shell.execute_reply": "2025-05-22T16:14:33.866411Z",
     "shell.execute_reply.started": "2025-05-22T16:14:33.862186Z"
    },
    "trusted": true
   },
   "outputs": [],
   "source": [
    "y_tensor.shape"
   ]
  },
  {
   "cell_type": "code",
   "execution_count": null,
   "metadata": {
    "execution": {
     "iopub.execute_input": "2025-05-22T16:14:34.705698Z",
     "iopub.status.busy": "2025-05-22T16:14:34.705465Z",
     "iopub.status.idle": "2025-05-22T16:14:34.710910Z",
     "shell.execute_reply": "2025-05-22T16:14:34.710008Z",
     "shell.execute_reply.started": "2025-05-22T16:14:34.705682Z"
    },
    "trusted": true
   },
   "outputs": [],
   "source": [
    "X.shape"
   ]
  },
  {
   "cell_type": "code",
   "execution_count": null,
   "metadata": {
    "execution": {
     "iopub.execute_input": "2025-05-22T16:14:46.323965Z",
     "iopub.status.busy": "2025-05-22T16:14:46.323690Z",
     "iopub.status.idle": "2025-05-22T16:14:46.329575Z",
     "shell.execute_reply": "2025-05-22T16:14:46.328820Z",
     "shell.execute_reply.started": "2025-05-22T16:14:46.323945Z"
    },
    "trusted": true
   },
   "outputs": [],
   "source": [
    "model = nn.Sequential(\n",
    "    nn.Linear(5, 40),\n",
    "    nn.ReLU(),\n",
    "    nn.Linear(40, 25),\n",
    "    nn.ReLU(),\n",
    "    nn.Linear(25, 22))"
   ]
  },
  {
   "cell_type": "code",
   "execution_count": null,
   "metadata": {
    "execution": {
     "iopub.execute_input": "2025-05-22T16:14:47.202080Z",
     "iopub.status.busy": "2025-05-22T16:14:47.201825Z",
     "iopub.status.idle": "2025-05-22T16:14:47.206470Z",
     "shell.execute_reply": "2025-05-22T16:14:47.205735Z",
     "shell.execute_reply.started": "2025-05-22T16:14:47.202064Z"
    },
    "trusted": true
   },
   "outputs": [],
   "source": [
    "print(model)"
   ]
  },
  {
   "cell_type": "code",
   "execution_count": null,
   "metadata": {
    "execution": {
     "iopub.execute_input": "2025-05-22T16:14:48.053235Z",
     "iopub.status.busy": "2025-05-22T16:14:48.052961Z",
     "iopub.status.idle": "2025-05-22T16:14:48.057738Z",
     "shell.execute_reply": "2025-05-22T16:14:48.057049Z",
     "shell.execute_reply.started": "2025-05-22T16:14:48.053217Z"
    },
    "trusted": true
   },
   "outputs": [],
   "source": [
    "loss_fn = nn.CrossEntropyLoss()\n",
    "optimizer= optim.Adam(model.parameters(), lr=0.001)"
   ]
  },
  {
   "cell_type": "code",
   "execution_count": null,
   "metadata": {
    "execution": {
     "iopub.execute_input": "2025-05-22T16:14:50.127815Z",
     "iopub.status.busy": "2025-05-22T16:14:50.127584Z",
     "iopub.status.idle": "2025-05-22T16:16:23.045752Z",
     "shell.execute_reply": "2025-05-22T16:16:23.045115Z",
     "shell.execute_reply.started": "2025-05-22T16:14:50.127800Z"
    },
    "trusted": true
   },
   "outputs": [],
   "source": [
    "n_epochs =10000\n",
    "batch_size =200\n",
    "\n",
    "\n",
    "for epoch in range(n_epochs):\n",
    "    for i in range(0, len(X_tensor), batch_size):\n",
    "        X_batch = X_tensor[i: i+batch_size]\n",
    "        y_pred = model(X_batch)\n",
    "        y_batch = y_tensor[i: i+batch_size]\n",
    "        loss = loss_fn(y_pred, y_batch)\n",
    "        optimizer.zero_grad()\n",
    "        loss.backward()\n",
    "        optimizer.step()\n",
    "\n",
    "    if epoch % 50 == 0:\n",
    "        _, predicted = torch.max(y_pred, 1)\n",
    "        print(f'Finished epoch {epoch}, latest loss {loss}')\n",
    "        print(\"Predicted:\", predicted[:5].tolist())\n",
    "        print(\"Actual   :\", y_batch[:5].tolist())\n"
   ]
  },
  {
   "cell_type": "code",
   "execution_count": null,
   "metadata": {
    "execution": {
     "iopub.execute_input": "2025-05-22T16:19:12.636024Z",
     "iopub.status.busy": "2025-05-22T16:19:12.635751Z",
     "iopub.status.idle": "2025-05-22T16:19:12.641326Z",
     "shell.execute_reply": "2025-05-22T16:19:12.640751Z",
     "shell.execute_reply.started": "2025-05-22T16:19:12.636004Z"
    },
    "trusted": true
   },
   "outputs": [],
   "source": [
    "with torch.no_grad():\n",
    "    y_pred = model(X_tensor)\n",
    " \n",
    "pred_classes = y_pred.argmax(dim=1)\n",
    "accuracy = (pred_classes == y_tensor).float().mean()\n",
    "print(f\"Accuracy {accuracy*100}\")"
   ]
  },
  {
   "cell_type": "code",
   "execution_count": null,
   "metadata": {
    "execution": {
     "iopub.execute_input": "2025-05-22T16:03:58.854720Z",
     "iopub.status.busy": "2025-05-22T16:03:58.854566Z",
     "iopub.status.idle": "2025-05-22T16:03:58.868519Z",
     "shell.execute_reply": "2025-05-22T16:03:58.867669Z",
     "shell.execute_reply.started": "2025-05-22T16:03:58.854707Z"
    },
    "trusted": true
   },
   "outputs": [],
   "source": [
    "import pickle"
   ]
  },
  {
   "cell_type": "code",
   "execution_count": null,
   "metadata": {},
   "outputs": [],
   "source": [
    "import torch.onnx\n",
    "\n",
    "dummy_input = torch.randn(1, 5)  # your input shape\n",
    "torch.onnx.export(\n",
    "    model,\n",
    "    dummy_input,\n",
    "    \"finalized_model.onnx\",\n",
    "    input_names=['input'],\n",
    "    output_names=['output'],\n",
    "    dynamic_axes={'input': {0: 'batch_size'}}\n",
    ")"
   ]
  },
  {
   "cell_type": "code",
   "execution_count": null,
   "metadata": {
    "execution": {
     "iopub.execute_input": "2025-05-22T16:19:21.605519Z",
     "iopub.status.busy": "2025-05-22T16:19:21.605229Z",
     "iopub.status.idle": "2025-05-22T16:19:21.611841Z",
     "shell.execute_reply": "2025-05-22T16:19:21.610957Z",
     "shell.execute_reply.started": "2025-05-22T16:19:21.605502Z"
    },
    "trusted": true
   },
   "outputs": [],
   "source": [
    "filename = 'finalized_model.pkl'\n",
    "pickle.dump(model, open(filename, 'wb'))"
   ]
  },
  {
   "cell_type": "code",
   "execution_count": null,
   "metadata": {
    "execution": {
     "iopub.execute_input": "2025-05-22T16:56:54.040133Z",
     "iopub.status.busy": "2025-05-22T16:56:54.039853Z",
     "iopub.status.idle": "2025-05-22T16:56:54.044726Z",
     "shell.execute_reply": "2025-05-22T16:56:54.043884Z",
     "shell.execute_reply.started": "2025-05-22T16:56:54.040117Z"
    },
    "trusted": true
   },
   "outputs": [],
   "source": [
    "filename = 'finalized_scaler.pkl'\n",
    "pickle.dump(scaler, open(filename, 'wb'))"
   ]
  },
  {
   "cell_type": "code",
   "execution_count": null,
   "metadata": {
    "trusted": true
   },
   "outputs": [],
   "source": []
  }
 ],
 "metadata": {
  "kaggle": {
   "accelerator": "none",
   "dataSources": [
    {
     "datasetId": 1046158,
     "sourceId": 1760012,
     "sourceType": "datasetVersion"
    }
   ],
   "dockerImageVersionId": 31040,
   "isGpuEnabled": false,
   "isInternetEnabled": true,
   "language": "python",
   "sourceType": "notebook"
  },
  "kernelspec": {
   "display_name": "Python 3",
   "language": "python",
   "name": "python3"
  },
  "language_info": {
   "codemirror_mode": {
    "name": "ipython",
    "version": 3
   },
   "file_extension": ".py",
   "mimetype": "text/x-python",
   "name": "python",
   "nbconvert_exporter": "python",
   "pygments_lexer": "ipython3",
   "version": "3.11.4"
  }
 },
 "nbformat": 4,
 "nbformat_minor": 4
}
